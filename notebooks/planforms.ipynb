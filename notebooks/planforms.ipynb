{
 "cells": [
  {
   "cell_type": "markdown",
   "id": "fd52b2d8",
   "metadata": {},
   "source": [
    "# Supported Planforms\n",
    "\n",
    "The **mmdesigner** code supports a variety of surface model planform. This note details the currently available design choices."
   ]
  },
  {
   "cell_type": "code",
   "execution_count": 1,
   "id": "89eb0e88",
   "metadata": {},
   "outputs": [],
   "source": [
    "%load_ext tikzmagic"
   ]
  },
  {
   "cell_type": "markdown",
   "id": "9de3a2b6",
   "metadata": {},
   "source": [
    "## Assembly\n",
    "\n",
    "An assembly is a collection of constructed parts joined together to form a single model component. The idea is to capture the major parts of a model that can be separated for transportation and storage purposes. Assemblies may have subassemblies that construct the component parts. For example, the fin is made up of several distinct parts that create the outline and covering of the fin.\n",
    "\n",
    "### Wing(s)\n",
    "\n",
    "Most wings have two panels (left and right). A few designs have two wings (upper and lower).\n",
    "\n",
    "### Stab\n",
    "\n",
    "The stabilizer also has two panels (left and right).\n",
    "\n",
    "### Fuselage\n",
    "\n",
    "The fuselage consists of a motor stick and a tail boom. Since most designs have the fin attached to the tail boom, we consider that component part of the fuselage. To minimize storage space requirements, the motor stick will support wing posts for wing attachment, and stab posts for stabilizer attachment as well. \n",
    "\n",
    "### Prop\n",
    "\n",
    "The propeller consists of spars , blades and the wire making up the prop shaft and hook. At present, built up propellers are not supported (I have not built one yet!)\n",
    "\n",
    "### "
   ]
  },
  {
   "cell_type": "markdown",
   "id": "03a775f9",
   "metadata": {},
   "source": [
    "## Panels\n",
    "\n",
    "Each defined surface has one or more panels. We distinguish the panels as follows:\n",
    "\n",
    "### Single\n",
    "\n",
    "Only one panel is defined - this wuld handle a fin, for example.\n",
    "\n",
    "### Left\n",
    "\n",
    "The left (from a pilot's perspective) panel.\n",
    "\n",
    "### Right\n",
    "\n",
    "The right(from the pilot's perspective) panel."
   ]
  },
  {
   "cell_type": "markdown",
   "id": "7297ca39",
   "metadata": {},
   "source": [
    "## Dihedral Choices\n",
    "\n",
    "Each planform is assumed to be constructed on a flat surface. Depending on the dihedral choice, each wing panel may be broken at specified **Y** value to form the final wing dihedral shape. "
   ]
  },
  {
   "cell_type": "markdown",
   "id": "ec79970b",
   "metadata": {},
   "source": [
    "### Flat\n",
    "\n",
    "The planform is completely flat (**Z = 0**) for all points within the planform outline."
   ]
  },
  {
   "cell_type": "code",
   "execution_count": 2,
   "id": "d61994a3",
   "metadata": {},
   "outputs": [
    {
     "data": {
      "image/png": "[encoded data removed]"
     },
     "metadata": {},
     "output_type": "display_data"
    }
   ],
   "source": [
    "%%tikz\n",
    "\n",
    "\\coordinate (root) at (0,0);\n",
    "\\coordinate (tip) at (6,0);\n",
    "\\draw (root) -- (tip);\n",
    "\\node[below] at (root) {$X_0$};\n",
    "\\node[below] at (tip) {$X_t$};"
   ]
  },
  {
   "cell_type": "markdown",
   "id": "ae75d343",
   "metadata": {},
   "source": [
    "### Simple\n",
    "\n",
    "Each panel is straight and the tip at **Ytip** is elevated to a value of **Ztip**."
   ]
  },
  {
   "cell_type": "code",
   "execution_count": 6,
   "id": "11227aa1",
   "metadata": {},
   "outputs": [
    {
     "data": {
      "image/png": "[encoded data removed]"
     },
     "metadata": {},
     "output_type": "display_data"
    }
   ],
   "source": [
    "%%tikz\n",
    "\n",
    "\\coordinate (root) at (0,0);\n",
    "\\coordinate (tip) at (6,2);\n",
    "\\draw (root) -- (tip);\n",
    "\\node[below] at (root) {$X_0$};\n",
    "\\node[below] at (6,0) {$X_t$};\n",
    "\\node[right] at (tip) {$Z_t$};"
   ]
  },
  {
   "cell_type": "markdown",
   "id": "a410abe5",
   "metadata": {},
   "source": [
    "### FlatPoly\n",
    "\n",
    "The planform is flat up to a value of **Yc**. The outer tip at **Ytip** is elevated to a value of **Ztip**"
   ]
  },
  {
   "cell_type": "code",
   "execution_count": 8,
   "id": "5541ccf1",
   "metadata": {},
   "outputs": [
    {
     "data": {
      "image/png": "[encoded data removed]"
     },
     "metadata": {},
     "output_type": "display_data"
    }
   ],
   "source": [
    "%%tikz\n",
    "\\coordinate (root) at (0,0);\n",
    "\\coordinate (center) at (4,0);\n",
    "\\coordinate (tip) at (6,2);\n",
    "\\draw (root) -- (center) -- (tip);\n",
    "\\node[below] (root) {$X_0$};\n",
    "\\node[below] at (4,0) {$X_c$};\n",
    "\\node[below] at (6,0) {$X_t$};\n",
    "\\node[right] at (6,2) {$Z_t$};"
   ]
  },
  {
   "cell_type": "markdown",
   "id": "d6bd1853",
   "metadata": {},
   "source": [
    "### GenPoly\n",
    "\n",
    "The planform is at **Z=0** at the wing root, and elevated to **Zc** at **Yc**, and to **Ztip** at **Ytip**."
   ]
  },
  {
   "cell_type": "code",
   "execution_count": 14,
   "id": "ff4bb262",
   "metadata": {},
   "outputs": [
    {
     "data": {
      "image/png": "[encoded data removed]"
     },
     "metadata": {},
     "output_type": "display_data"
    }
   ],
   "source": [
    "%%tikz\n",
    "\\coordinate (root) at (0,0);\n",
    "\\coordinate (center) at (4,0.5);\n",
    "\\coordinate (tip) at (6,2);\n",
    "\\draw (root) -- (center) -- (tip);\n",
    "\\node[below] (root) {$X_0$};\n",
    "\\node[below] at (center) {$X_c$};\n",
    "\\node[below, right] at (center) {$Z_c$};\n",
    "\\node[below] at (tip) {$X_t$};\n",
    "\\node[right] at (tip) {$Z_t$};"
   ]
  },
  {
   "cell_type": "markdown",
   "id": "ee2a855a",
   "metadata": {},
   "source": [
    "## Leading-Trailing Edge Choices\n",
    "\n",
    "The edges may be straight in one piece, or broken into two or more segments. The final segment may end in a circular arc."
   ]
  },
  {
   "cell_type": "markdown",
   "id": "a5f80739",
   "metadata": {},
   "source": [
    "### Straight{LE,TE}\n",
    "\n",
    "The leading edge is one straight piece from **X0** to **Xtip**. The ends have specified **X** values"
   ]
  },
  {
   "cell_type": "markdown",
   "id": "965e7a70",
   "metadata": {},
   "source": [
    "### Segmented{LE,TE}\n",
    "\n",
    "The leading edge is broken at **n** points. At each point the **X** offset of the end point is specified. The root **X** value is set at **0**."
   ]
  },
  {
   "cell_type": "markdown",
   "id": "32a052bd",
   "metadata": {},
   "source": [
    "## Tip choices\n",
    "\n",
    "The tip is either square (straight tip rib), or rounded with a circluar arc. "
   ]
  },
  {
   "cell_type": "markdown",
   "id": "d82cc356",
   "metadata": {},
   "source": [
    "### SquareTip{LE,TE}\n",
    "\n",
    "A straignt segment running from leading edge to trailaing edge. The span is specified by the final location of the leading and trailing segments."
   ]
  },
  {
   "cell_type": "markdown",
   "id": "71ed04f2",
   "metadata": {},
   "source": [
    "### ArcTip{LE,TE}\n",
    "\n",
    "A circular arc with a specified **TipRadius** runs to the tip **y** value and joins the designated edge."
   ]
  },
  {
   "cell_type": "markdown",
   "id": "7afc53ef",
   "metadata": {},
   "source": [
    "## Rib Locations\n",
    "\n",
    "There will be a **n** ribs in each wing panel. Ribs are normally aligned parallel t the **X** axis, but some designs call for the ribs to be angled (rotated along the **Z** axis). AT palen segment joints, most builders glue ribs to one side of the joint vertically aligned. This causes minor problems in creting \"nice\" jonts using OpenSCD. A better setup places the rib at the joint and aligns it canted at an angle equal to one half of the joint angle. In any case, we need a full translation and rotation data definition o fully place each rib. location will be specifed for each rib. "
   ]
  },
  {
   "cell_type": "code",
   "execution_count": null,
   "id": "3d757581",
   "metadata": {},
   "outputs": [],
   "source": []
  }
 ],
 "metadata": {
  "kernelspec": {
   "display_name": "Python 3 (ipykernel)",
   "language": "python",
   "name": "python3"
  },
  "language_info": {
   "codemirror_mode": {
    "name": "ipython",
    "version": 3
   },
   "file_extension": ".py",
   "mimetype": "text/x-python",
   "name": "python",
   "nbconvert_exporter": "python",
   "pygments_lexer": "ipython3",
   "version": "3.9.8"
  }
 },
 "nbformat": 4,
 "nbformat_minor": 5
}
